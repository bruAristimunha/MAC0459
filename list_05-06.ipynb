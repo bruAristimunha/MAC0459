{
  "nbformat": 4,
  "nbformat_minor": 0,
  "metadata": {
    "colab": {
      "name": "L5 -  L6 FMC",
      "version": "0.3.2",
      "provenance": [],
      "collapsed_sections": []
    },
    "kernelspec": {
      "name": "python3",
      "display_name": "Python 3"
    }
  },
  "cells": [
    {
      "cell_type": "markdown",
      "metadata": {
        "id": "zTcd9LtZL28S",
        "colab_type": "text"
      },
      "source": [
        "## Lista de Exercício 05 e 06 - Fundamentos de Matemática para Computação.\n",
        "\n",
        "# Universidade Federal do ABC - UFABC\n",
        "## Centro de Matemática, Computação e Cognição - CMCC\n",
        "\n",
        "## Disciplina:  Fundamentos de Matemática para a Computação -  CCM-007\n",
        "\n",
        "Responsável: Prof. Dr. Saul Leite\n",
        "\n",
        "Estudantes: Bruno Aristimunha.\n",
        "\n",
        "Santo André, 17 de Março de 2019\n",
        "\n",
        "### Primeira Parte do Curso\n",
        "\n",
        "#### Objetivos\n",
        "\n",
        "O objetivo dessa lista é explorar e aplicar os conceitos de sala de aula sobre **Raízes para Equações Não-Lineares**.\n",
        "\n",
        "Para alcançar esse objetivo a resolução dos exercícios é necessária.\n",
        "\n",
        "\n"
      ]
    },
    {
      "cell_type": "code",
      "metadata": {
        "id": "OU4X4bsD6tnT",
        "colab_type": "code",
        "colab": {}
      },
      "source": [
        "import matplotlib.pylab as plt\n",
        "\n",
        "import sympy as sp\n",
        "import mpmath as mp\n",
        "import math \n",
        "import pandas as pd\n",
        "import numpy as np\n",
        "\n",
        "plt.style.use(\"ggplot\")\n"
      ],
      "execution_count": 0,
      "outputs": []
    },
    {
      "cell_type": "markdown",
      "metadata": {
        "id": "tk5kdsQ82puD",
        "colab_type": "text"
      },
      "source": [
        "---\n",
        "## E1: Seja $f (x) = \\frac{x^{2}}{2} + x(\\log(x) − 1)$. Obtenha seus pontos extremos com o auxílio do método da Bisseção.\n",
        "\n",
        "---"
      ]
    },
    {
      "cell_type": "markdown",
      "metadata": {
        "id": "E3xNBv8OUeW3",
        "colab_type": "text"
      },
      "source": [
        "Dado a falta de informações sobre os limites laterais da $f(x)$ realizamos um plotagem inicial para verificar o seu comportamento no intervalo $[.25,2]$. Além disso, interpretamos \"pontos extremos\" como o minímo ou máximo global da função.\n",
        "\n",
        "Para tanto, podemos encontrar $f'(x)=0$ e com o valor de $x$ aplicar na função original. Dessa forma:\n",
        "\n"
      ]
    },
    {
      "cell_type": "code",
      "metadata": {
        "id": "284QFUQfglCc",
        "colab_type": "code",
        "outputId": "81fac6b1-afe7-4511-9e0b-606cedad3a60",
        "colab": {
          "base_uri": "https://localhost:8080/",
          "height": 34
        }
      },
      "source": [
        "x = sp.var('x')\n",
        "sp.diff((x**2)/2) + x*(sp.log(x)-1)"
      ],
      "execution_count": 0,
      "outputs": [
        {
          "output_type": "execute_result",
          "data": {
            "text/plain": [
              "x*(log(x) - 1) + x"
            ]
          },
          "metadata": {
            "tags": []
          },
          "execution_count": 58
        }
      ]
    },
    {
      "cell_type": "code",
      "metadata": {
        "id": "4Fejn4QNgbid",
        "colab_type": "code",
        "colab": {}
      },
      "source": [
        "funcao = lambda x: x*(math.log(x) - 1) + x"
      ],
      "execution_count": 0,
      "outputs": []
    },
    {
      "cell_type": "markdown",
      "metadata": {
        "id": "mbkCnuEpWrr_",
        "colab_type": "text"
      },
      "source": [
        "Observando o gráfico, escolhemos os pontos $[0.001, 1]$ para os limites laterais inicias."
      ]
    },
    {
      "cell_type": "code",
      "metadata": {
        "id": "VVL3qAgYUtR5",
        "colab_type": "code",
        "colab": {}
      },
      "source": [
        "def bisect(intervalo, funcao, erro):\n",
        "  valores = np.array([])#pd.DataFrame([],columns=['k','a','b','x','f(a)','f(b)','f(x)','(b-a)/2'])\n",
        "  k = 0\n",
        "  a = intervalo[0]\n",
        "  b = intervalo[1]\n",
        "  xk = (a+b)/2\n",
        "  \n",
        "  print(\"Intervalo: [{:.2f},{:.2f}]\".format(a, b), \"| Iteração:\", k+1, \"|(b-a) = {:.2f}\".format((b-a)/2),\"|Valor de x:{:.2f}\".format(xk),\"|Valor na F(xk):{:.2f}\".format(funcao(xk)))\n",
        "\n",
        "  while(np.abs(b-a) >= 2*erro):\n",
        "     \n",
        "    xk = (a+b)/2\n",
        "    #print(funcao(a),funcao(xk), funcao(a)*funcao(xk))\n",
        "    if(funcao(a)*funcao(xk) < 0):\n",
        "      a = a\n",
        "      b = xk\n",
        "    \n",
        "    else:\n",
        "    \n",
        "      a = xk\n",
        "      b = b\n",
        "      \n",
        "    k=k+1\n",
        "    print(\"Intervalo: [{:.2f},{:.2f}]\".format(a, b), \"| Iteração:\", k+1, \"|(b-a) = {:.2f}\".format((b-a)/2),\"|Valor de x:{:.2f}\".format(xk),\"|Valor na F(xk):{:.2f}\".format(funcao(xk)))\n",
        "   \n",
        " \n",
        "    #print(valor)\n",
        "    #valores = np.append(valores, valor)\n",
        "    #valores = np.append(valores,[k,a,b,xk,f_x(a),f_x(b), f_x(xk),(b-a)/2],axis=0)\n",
        "  return xk"
      ],
      "execution_count": 0,
      "outputs": []
    },
    {
      "cell_type": "code",
      "metadata": {
        "id": "JjpKx-oqTxGG",
        "colab_type": "code",
        "outputId": "216775db-125c-4b04-950c-3aaf37df2d16",
        "colab": {
          "base_uri": "https://localhost:8080/",
          "height": 69
        }
      },
      "source": [
        "valor = bisect(intervalo = [0.001,2],funcao = f_x_1, erro = 0.3)"
      ],
      "execution_count": 0,
      "outputs": [
        {
          "output_type": "stream",
          "text": [
            "Intervalo: [0.00,2.00] | Iteração: 1 |(b-a) = 1.00 |Valor de x:1.00 |Valor na F(xk):0.00\n",
            "Intervalo: [0.00,1.00] | Iteração: 2 |(b-a) = 0.50 |Valor de x:1.00 |Valor na F(xk):0.00\n",
            "Intervalo: [0.50,1.00] | Iteração: 3 |(b-a) = 0.25 |Valor de x:0.50 |Valor na F(xk):-0.35\n"
          ],
          "name": "stdout"
        }
      ]
    },
    {
      "cell_type": "code",
      "metadata": {
        "id": "iwyMi-a_Kj0D",
        "colab_type": "code",
        "outputId": "fb659921-78f6-4e7d-f339-aaf658ed16a9",
        "colab": {
          "base_uri": "https://localhost:8080/",
          "height": 34
        }
      },
      "source": [
        "valor"
      ],
      "execution_count": 0,
      "outputs": [
        {
          "output_type": "execute_result",
          "data": {
            "text/plain": [
              "0.5007499999999999"
            ]
          },
          "metadata": {
            "tags": []
          },
          "execution_count": 91
        }
      ]
    },
    {
      "cell_type": "code",
      "metadata": {
        "id": "lHyIB0-6Yw9q",
        "colab_type": "code",
        "outputId": "45b14484-f7ae-41a0-86f9-a0c4c70bbb2d",
        "colab": {
          "base_uri": "https://localhost:8080/",
          "height": 361
        }
      },
      "source": [
        "pontos = np.linspace(0.25,2,100)\n",
        "f_x = lambda x: ((x**2)/2) + x*(math.log2(x)-1)\n",
        "#f_2 = lambda g: g**2 -2\n",
        "plt.plot(pontos,list(map(f_x,pontos)), label=\"Função\")\n",
        "plt.plot(valor,f_x(valor), 'bo' , label=\"Ponto Extremo\")\n",
        "\n",
        "plt.xlabel(\"x\")\n",
        "plt.ylabel(\"(x**2)/2 + x*(np.log(x)-1\")\n",
        "plt.legend(loc='best')\n",
        "plt.show()"
      ],
      "execution_count": 0,
      "outputs": [
        {
          "output_type": "display_data",
          "data": {
            "image/png": "[encoded data removed]",
            "text/plain": [
              "<Figure size 576x396 with 1 Axes>"
            ]
          },
          "metadata": {
            "tags": []
          }
        }
      ]
    },
    {
      "cell_type": "markdown",
      "metadata": {
        "id": "vozJ5K7kKqoX",
        "colab_type": "text"
      },
      "source": [
        "Para analisar a nossa implementação, bem como, a escolha do intervalo, empregamos o método com alta precisão implementado pela biblioteca mp.math."
      ]
    },
    {
      "cell_type": "code",
      "metadata": {
        "id": "g01wzQTbKp_w",
        "colab_type": "code",
        "outputId": "c8e1c1fb-4509-478b-97ae-5aabd907c175",
        "colab": {
          "base_uri": "https://localhost:8080/",
          "height": 34
        }
      },
      "source": [
        "valor - mp.findroot(f_x_1,x0=(0.1,2), solver='bisect')"
      ],
      "execution_count": 0,
      "outputs": [
        {
          "output_type": "execute_result",
          "data": {
            "text/plain": [
              "mpf('-0.49924999999999992')"
            ]
          },
          "metadata": {
            "tags": []
          },
          "execution_count": 96
        }
      ]
    },
    {
      "cell_type": "markdown",
      "metadata": {
        "id": "BWvPAXIGLPAZ",
        "colab_type": "text"
      },
      "source": [
        "Concluímos que a implementação apresenta o resultado dentro da precisão solicitada."
      ]
    },
    {
      "cell_type": "markdown",
      "metadata": {
        "id": "hg-oQQ9l2r1d",
        "colab_type": "text"
      },
      "source": [
        "---\n",
        "## E2: Sabe-se que $f (x) = \\cos(x) − x^{2}$ possui um  zero no intervalo $[0, 1]$.  Mostre que o método do ponto fixo com função de iteração $\\varphi(x) = \\sqrt{\\cos(x)}$ converge para a raiz contida no intervalo $[0, 1]$.\n",
        "\n",
        "---\n",
        "\n",
        "$> \\varphi(x) = \\sqrt{\\cos(x)}$\n",
        "\n",
        " \n",
        " \n",
        " \n"
      ]
    },
    {
      "cell_type": "code",
      "metadata": {
        "id": "sbD-N9RRudko",
        "colab_type": "code",
        "colab": {}
      },
      "source": [
        "import numpy as np"
      ],
      "execution_count": 0,
      "outputs": []
    },
    {
      "cell_type": "code",
      "metadata": {
        "id": "PZ0h0miQfIEu",
        "colab_type": "code",
        "colab": {}
      },
      "source": [
        "def pontoFixo_02(x0, erro):\n",
        "  i = 0\n",
        "  xk = x0  \n",
        "  \n",
        "  x_k_1 = phi_x(x0)\n",
        "\n",
        "  eps = np.fabs(xk-x_k_1)\n",
        "  \n",
        "  #print(eps)\n",
        "  \n",
        "  #print(\"x1 =  %.5f, eps =~ %.1e\" % (x0, eps))  \n",
        "\n",
        "  while(eps>=erro):\n",
        "      i = i+1\n",
        "      xk= x_k_1\n",
        "      \n",
        "      x_k_1 = phi_x(x_k_1)\n",
        "      \n",
        "      eps = np.fabs(x_k_1-xk)\n",
        "      #print(eps)\n",
        "      print(\"%s =~ %.8f, eps =~ %.1e\" % (('x'+str(i)), xk, eps))  \n",
        "  return (x_k_1)"
      ],
      "execution_count": 0,
      "outputs": []
    },
    {
      "cell_type": "code",
      "metadata": {
        "id": "z_t-mJG2lt_-",
        "colab_type": "code",
        "outputId": "8778fa04-a5b8-4fdc-aeba-f5322e8815a5",
        "colab": {
          "base_uri": "https://localhost:8080/",
          "height": 121
        }
      },
      "source": [
        "phi_x = lambda k: np.sqrt(np.cos(k))  \n",
        "#\n",
        "pontoFixo_02(.5,.01)"
      ],
      "execution_count": 0,
      "outputs": [
        {
          "output_type": "stream",
          "text": [
            "x1 =~ 0.93679377, eps =~ 1.7e-01\n",
            "x2 =~ 0.76965850, eps =~ 7.8e-02\n",
            "x3 =~ 0.84743634, eps =~ 3.4e-02\n",
            "x4 =~ 0.81357667, eps =~ 1.5e-02\n",
            "x5 =~ 0.82879641, eps =~ 6.7e-03\n"
          ],
          "name": "stdout"
        },
        {
          "output_type": "execute_result",
          "data": {
            "text/plain": [
              "0.8220483178672121"
            ]
          },
          "metadata": {
            "tags": []
          },
          "execution_count": 20
        }
      ]
    },
    {
      "cell_type": "markdown",
      "metadata": {
        "id": "UERik4zd2tXQ",
        "colab_type": "text"
      },
      "source": [
        "---\n",
        "## E3: O valor de $\\pi$ pode ser obtido através da resolução das seguintes equações: \n",
        " ---\n",
        "\n",
        " Aplique o método de Newton com $x_0 = 3$ e com precisão $10^{−7}$ em cada caso e compare os resultados obtidos.\n",
        " Justifique.\n",
        " "
      ]
    },
    {
      "cell_type": "markdown",
      "metadata": {
        "id": "75_i-sNGxnsH",
        "colab_type": "text"
      },
      "source": [
        " > (a) $sin(x) = 0$\n",
        " \n",
        " > (b) $cos(x) + 1 = 0$ \n",
        "\n",
        "Seja a função de iteração dado por:\n",
        "\n",
        "> $\\varphi_a(x) =  x - \\frac{f(x)}{f'(x)} =  x - \\frac{\\sin(x)}{\\cos(x)}$\n",
        "\n",
        "> $\\varphi_b(x) =  x - \\frac{f(x)}{f'(x)} =  x + \\frac{\\cos(x) + 1}{\\sin(x)}$"
      ]
    },
    {
      "cell_type": "code",
      "metadata": {
        "id": "jbp9HrUo2GoZ",
        "colab_type": "code",
        "colab": {}
      },
      "source": [
        "import scipy as sci\n",
        "import numpy as np"
      ],
      "execution_count": 0,
      "outputs": []
    },
    {
      "cell_type": "code",
      "metadata": {
        "id": "Ve6YuW0115wI",
        "colab_type": "code",
        "colab": {}
      },
      "source": [
        "#funcao do pto. fixo  \n",
        "def letra_a(x):  \n",
        "    return x - np.sin(x)/np.cos(x)  \n",
        "def letra_b(x):  \n",
        "    return x + (np.cos(x)+1)/(np.sin(x))  \n",
        "    \n",
        "  \n",
        "def pontoFixo(x0, f, erro):\n",
        "   \n",
        "  xe = sci.optimize.fixed_point(f, x0)  \n",
        "\n",
        "  \n",
        "  eps = np.fabs(x0-xe)  \n",
        "  print(\"x1 =  %.5f, eps =~ %.1e\" % (x0, eps))  \n",
        "  i = 0\n",
        "  while(eps>=erro):\n",
        "      \n",
        "      x = f(x0);  \n",
        "      eps = np.fabs(x-xe);  \n",
        "      print(\"%s =~ %.8f, eps =~ %.1e\" % (('x'+str(i+2)), x, eps))  \n",
        "      x0 = x\n",
        "      i = i+1"
      ],
      "execution_count": 0,
      "outputs": []
    },
    {
      "cell_type": "code",
      "metadata": {
        "id": "f9Dy1dk_84hg",
        "colab_type": "code",
        "outputId": "1abdbcbf-058b-4769-c1ff-4f041b3bacbd",
        "colab": {
          "base_uri": "https://localhost:8080/",
          "height": 69
        }
      },
      "source": [
        "pontoFixo(3,letra_a,1e-7)"
      ],
      "execution_count": 0,
      "outputs": [
        {
          "output_type": "stream",
          "text": [
            "x1 =  3.00000, eps =~ 1.4e-01\n",
            "x2 =~ 3.14254654, eps =~ 9.5e-04\n",
            "x3 =~ 3.14159265, eps =~ 2.9e-10\n"
          ],
          "name": "stdout"
        }
      ]
    },
    {
      "cell_type": "code",
      "metadata": {
        "id": "1nbYFhJe9GgB",
        "colab_type": "code",
        "outputId": "1d37202e-cb87-4f6a-a139-dd4849424c30",
        "colab": {
          "base_uri": "https://localhost:8080/",
          "height": 399
        }
      },
      "source": [
        "pontoFixo(3,letra_b,1e-7)"
      ],
      "execution_count": 0,
      "outputs": [
        {
          "output_type": "stream",
          "text": [
            "x1 =  3.00000, eps =~ 1.4e-01\n",
            "x2 =~ 3.07091484, eps =~ 7.1e-02\n",
            "x3 =~ 3.10626847, eps =~ 3.5e-02\n",
            "x4 =~ 3.12393240, eps =~ 1.8e-02\n",
            "x5 =~ 3.13276275, eps =~ 8.8e-03\n",
            "x6 =~ 3.13717773, eps =~ 4.4e-03\n",
            "x7 =~ 3.13938520, eps =~ 2.2e-03\n",
            "x8 =~ 3.14048893, eps =~ 1.1e-03\n",
            "x9 =~ 3.14104079, eps =~ 5.5e-04\n",
            "x10 =~ 3.14131672, eps =~ 2.8e-04\n",
            "x11 =~ 3.14145469, eps =~ 1.4e-04\n",
            "x12 =~ 3.14152367, eps =~ 6.9e-05\n",
            "x13 =~ 3.14155816, eps =~ 3.4e-05\n",
            "x14 =~ 3.14157541, eps =~ 1.7e-05\n",
            "x15 =~ 3.14158403, eps =~ 8.6e-06\n",
            "x16 =~ 3.14158834, eps =~ 4.3e-06\n",
            "x17 =~ 3.14159050, eps =~ 2.2e-06\n",
            "x18 =~ 3.14159158, eps =~ 1.1e-06\n",
            "x19 =~ 3.14159211, eps =~ 5.4e-07\n",
            "x20 =~ 3.14159238, eps =~ 2.7e-07\n",
            "x21 =~ 3.14159252, eps =~ 1.3e-07\n",
            "x22 =~ 3.14159259, eps =~ 6.7e-08\n"
          ],
          "name": "stdout"
        }
      ]
    },
    {
      "cell_type": "markdown",
      "metadata": {
        "id": "T7-Y1kvuNyFC",
        "colab_type": "text"
      },
      "source": [
        "Houve uma diferença entre número de iterações necessárias para encontrar o valor de $\\pi$. Isso ocorre pois a nossa $f_b(x)$ possui uma multiplicidade $m$ diferente. Ou seja:\n",
        "\n",
        "\n",
        "$\\begin{align}\n",
        "f(x)=& +\\cos(x) + 1& x &=2\\pi &\\implies& cos(2\\pi)+1 = 0 \\\\\n",
        "f'(x)=& - \\sin(x) & x &=0 &\\implies& - sin(0) = 0\\\\\n",
        "f''(x)=& -\\cos(x) & x &= \\pi/2 &\\implies& -cos(\\pi/2) = 0\\\\\n",
        "f'''(x)=&+\\sin(x)& x &=0 &\\implies& + sin(0) = 0\\\\\n",
        "\\end{align}$\n",
        "\n",
        "A função apresenta três raizes. Conforme visto em sala, isso acarreta na redução da velocidade do método.\n",
        "\n"
      ]
    },
    {
      "cell_type": "markdown",
      "metadata": {
        "id": "IhqhAjI52uwr",
        "colab_type": "text"
      },
      "source": [
        "---\n",
        "## E4: Suponha que você deseja calcular b/a em um computador capaz de somente somar, subtrair e multiplicar. Responda: \n",
        "---\n",
        "\n",
        "> (a) Use o método de Newton para estabelecer uma forma de calcular $\\frac{1}{a}$ (dica: note que $\\frac{1}{a}$ é o zero de $f (x) = \\frac{1}{x-a}$).\n",
        "\n",
        "> (b) Mostre que o método de Newton converge quando o ponto inicial $x_0$ está no intervalo $[\\frac{1}{2a}, \\frac{3}{2a}]$.\n",
        " \n",
        " > (c) Implemente o método do item (a) em Python e calcule $\\frac{10}{9}$.\n",
        " "
      ]
    },
    {
      "cell_type": "markdown",
      "metadata": {
        "id": "FBm3dteC2wsI",
        "colab_type": "text"
      },
      "source": [
        "---\n",
        "## E5: Suponha que você deseja computar $\\sqrt{b}$ em um computador que não possui a função de “raiz quadrada”. Responda: \n",
        "\n",
        "---\n",
        ">(a) Use  o método de Newton para estabelecer uma forma de calcular a raiz (dica: note que $\\sqrt{b}$ é zero da função $f (x) = x^2 − b$).\n",
        "\n",
        "\n",
        "Através do método de Newton podemos resolver equações $f(x) = 0$ e nos aproximar desse valor de $x$. Basicamente nós realizamos aproximações tal qual geramos um $x_k$, em que $k$ corresponde a interação que responde a seguinte equação:\n",
        "\n",
        "$\\begin{align}\n",
        "y  &=f(x_k) + f'(x_k)(x-x_k),\\\\\n",
        "\\text{Note que} &\\text{ na próxima iteração realizamos uma tangente (derivamos):}\\\\\n",
        "0 =              & f(x_k) + f'(x_k)(x_{k+1}-x_k)\\\\ \n",
        " &\\text{em que } x_{k+1} := x_k - \\frac{f(x_k)}{f'(x_k)} \\\\\n",
        "\\end{align}$\n",
        "\n",
        "Dessa forma, calculando $x_{k+1}$ em $f(x) = x^2 - b$ temos:\n",
        "\n",
        "> $x_{k+1} =  x_k - \\frac{x^{2}_{k} -b}{2x_n} $\n",
        "\n",
        "\n",
        "Realizando a diferença entre as interações obtemos uma aproximação da raiz quadradada.\n",
        " \n",
        " >(b) Implemente o método do item (a) e calcule $\\sqrt{x}$ para diversos valores de $x$ (e.i, $x = 2, 3, 5$).\n"
      ]
    },
    {
      "cell_type": "code",
      "metadata": {
        "id": "V2aItokRZ9RZ",
        "colab_type": "code",
        "colab": {}
      },
      "source": [
        "def aproximarRaizQuad(b, erro):\n",
        "  x_k = b\n",
        "  diferenca = np.inf\n",
        "  \n",
        "  while(diferenca > erro):\n",
        "  \n",
        "    xk_1 = x_k -((x_k**2 - b)/(2*x_k))\n",
        "    diferenca = np.abs(xk_1 - x_k)\n",
        "   \n",
        "    x_k = xk_1\n",
        "  return x_k"
      ],
      "execution_count": 0,
      "outputs": []
    },
    {
      "cell_type": "code",
      "metadata": {
        "id": "za5IS4bJbN0H",
        "colab_type": "code",
        "outputId": "fde4900d-4acb-4879-e55f-2ab3389d35a4",
        "colab": {
          "base_uri": "https://localhost:8080/",
          "height": 69
        }
      },
      "source": [
        "print(aproximarRaizQuad(2,1e-8) - np.sqrt(2))\n",
        "print(aproximarRaizQu ad(3,1e-8) - np.sqrt(3))\n",
        "print(aproximarRaizQuad(5,1e-8) - np.sqrt(5))"
      ],
      "execution_count": 0,
      "outputs": [
        {
          "output_type": "stream",
          "text": [
            "0.0\n",
            "0.0\n",
            "0.0\n"
          ],
          "name": "stdout"
        }
      ]
    },
    {
      "cell_type": "markdown",
      "metadata": {
        "id": "A8qVB6-G3bNH",
        "colab_type": "text"
      },
      "source": [
        "---\n",
        "## E6: Use o método de Newton para determinar uma solução, com precisão inferior a $10^{-16}$ para o seguinte sistema não linear:\n",
        "\n",
        "---\n",
        "$\\begin{align}\n",
        "&3xy-y^{3}=4\\\\\n",
        "&x^{2} +x y^{3} = 9\n",
        "\\end{align}$\n",
        "\n",
        "com $x_0= (-1,-2)$. Use Python para fazer os cálculos.\n",
        "\n",
        "$f_1(x) \\approx  f_1(x_0) + (x_1 - (x_0)_1) \\frac{\\partial f_1(x_0)}{\\partial x_1} + (x_2 -(x_0)_2) \\frac{f_1(x_0)}{\\partial  x_2}\\\\\n",
        "f_2(x) \\approx  f_2(x_0) + (x_1 - (x_0)_1) \\frac{\\partial f_2(x_0)}{\\partial x_1} + (x_2 -(x_0)_2) \\frac{f_2(x_0)}{\\partial  x_2}$\n",
        "\n",
        "Para nossas equações:\n",
        "\n",
        "$f_1(x)=3xy-y^{3} - 4 = 0 \\\\\n",
        "f_2(x)=x^{2}+xy^{3} - 9 = 0 $\n",
        "\n",
        "Empregando Python para os cálculos temos:\n"
      ]
    },
    {
      "cell_type": "code",
      "metadata": {
        "id": "Eqr3szHmMau1",
        "colab_type": "code",
        "outputId": "7b4b6517-2ec7-4fbd-b621-6b706ddd2263",
        "colab": {
          "base_uri": "https://localhost:8080/",
          "height": 52
        }
      },
      "source": [
        "from scipy.optimize import fsolve\n",
        "#import warnings; warnings.filterwarnings('ignore')\n",
        "\n",
        "def f2(z):\n",
        "  x = z[0]\n",
        "  y = z[1]\n",
        "  f =  np.zeros(2)\n",
        "  \n",
        "  \n",
        "  f[0] = 3*x*y - y**3 - 4\n",
        "  f[1] =  x**2 - x*y**3 - 9\n",
        "  return f\n",
        "\n",
        "z = fsolve(f2,[-1,-2],xtol =1e-16)\n",
        "print(z)\n",
        "print(f2(z))\n"
      ],
      "execution_count": 0,
      "outputs": [
        {
          "output_type": "stream",
          "text": [
            "[ 0.86713686 -2.11879185]\n",
            "[-1.77635684e-15  0.00000000e+00]\n"
          ],
          "name": "stdout"
        }
      ]
    },
    {
      "cell_type": "code",
      "metadata": {
        "id": "OrEIy-5SP9X8",
        "colab_type": "code",
        "outputId": "1822ba3e-36ce-4375-adcd-50fadbca5af7",
        "colab": {
          "base_uri": "https://localhost:8080/",
          "height": 52
        }
      },
      "source": [
        "\n",
        "vars = sp.var('x, y')\n",
        "\n",
        "F = [3*x*y - y**3 - 4, x**2 - x*y**3 - 9]\n",
        "\n",
        "J = sp.Matrix(F).jacobian(vars)\n",
        "\n",
        "f = lambda x0,y0 : [Fc.subs(list(zip(vars, [x0,y0]))) for Fc in F]\n",
        "Jac = lambda x0,y0 : J.subs(list(zip(vars, [x0,y0]))).tolist()\n",
        "\n",
        "start = [-1, -2]\n",
        "\n",
        "raizes = mp.findroot(f, start, J = Jac,xtool=1e-16)\n",
        "print(raizes)"
      ],
      "execution_count": 0,
      "outputs": [
        {
          "output_type": "stream",
          "text": [
            "[0.867136863601611]\n",
            "[ -2.1187918504528]\n"
          ],
          "name": "stdout"
        }
      ]
    },
    {
      "cell_type": "code",
      "metadata": {
        "id": "DRAqLwayQEdx",
        "colab_type": "code",
        "outputId": "704ac288-879b-4536-c6da-7cae770fb5a8",
        "colab": {
          "base_uri": "https://localhost:8080/",
          "height": 52
        }
      },
      "source": [
        "print(z[0]-raizes[0])\n",
        "print(z[1]-raizes[1])"
      ],
      "execution_count": 0,
      "outputs": [
        {
          "output_type": "stream",
          "text": [
            "1.40554847322366e-16\n",
            "1.59654699129121e-16\n"
          ],
          "name": "stdout"
        }
      ]
    },
    {
      "cell_type": "markdown",
      "metadata": {
        "id": "uebqkjRKQFOB",
        "colab_type": "text"
      },
      "source": [
        "Observando a diferença entre os métodos, temos que o método do Scipy apresenta uma precisão abaixo do solicitado, enquanto o método da biblioteca  mpmath, com a inicialização do Jacobiano calculo através do Sympy apresenta a precisão solicitada. Isso ocorre pois o no método de Scipy calcula a derivada numérica da função, o que adiciona erros adicionais, que por sua vez leva a uma perda da precisão."
      ]
    }
  ]
}